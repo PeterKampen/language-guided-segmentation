{
 "cells": [
  {
   "cell_type": "code",
   "id": "initial_id",
   "metadata": {
    "collapsed": true,
    "ExecuteTime": {
     "end_time": "2025-03-17T10:29:27.461732Z",
     "start_time": "2025-03-17T10:29:19.880153Z"
    }
   },
   "source": [
    "\n",
    "from transformers import pipeline\n",
    "import torch\n",
    "\n",
    "pipe = pipeline(\n",
    "    \"image-text-to-text\",\n",
    "    model=\"google/gemma-3-12b-it\",\n",
    "    device=\"cpu\",\n",
    "    torch_dtype=torch.bfloat16\n",
    ")"
   ],
   "outputs": [
    {
     "name": "stderr",
     "output_type": "stream",
     "text": [
      "Loading checkpoint shards: 100%|██████████| 5/5 [00:01<00:00,  3.23it/s]\n",
      "Device set to use cpu\n"
     ]
    }
   ],
   "execution_count": 2
  },
  {
   "metadata": {
    "ExecuteTime": {
     "end_time": "2025-03-20T15:04:53.443410Z",
     "start_time": "2025-03-20T15:04:53.431572Z"
    }
   },
   "cell_type": "code",
   "source": [
    "from collections import OrderedDict\n",
    "_FLEURS_LANG_TO_ID = OrderedDict([(\"Afrikaans\", \"af\"), (\"Amharic\", \"am\"), (\"Arabic\", \"ar\"), (\"Armenian\", \"hy\"), (\"Assamese\", \"as\"), (\"Asturian\", \"ast\"), (\"Azerbaijani\", \"az\"), (\"Belarusian\", \"be\"), (\"Bengali\", \"bn\"), (\"Bosnian\", \"bs\"), (\"Bulgarian\", \"bg\"), (\"Burmese\", \"my\"), (\"Catalan\", \"ca\"), (\"Cebuano\", \"ceb\"), (\"Mandarin Chinese\", \"cmn_hans\"), (\"Cantonese Chinese\", \"yue_hant\"), (\"Croatian\", \"hr\"), (\"Czech\", \"cs\"), (\"Danish\", \"da\"), (\"Dutch\", \"nl\"), (\"English\", \"en\"), (\"Estonian\", \"et\"), (\"Filipino\", \"fil\"), (\"Finnish\", \"fi\"), (\"French\", \"fr\"), (\"Fula\", \"ff\"), (\"Galician\", \"gl\"), (\"Ganda\", \"lg\"), (\"Georgian\", \"ka\"), (\"German\", \"de\"), (\"Greek\", \"el\"), (\"Gujarati\", \"gu\"), (\"Hausa\", \"ha\"), (\"Hebrew\", \"he\"), (\"Hindi\", \"hi\"), (\"Hungarian\", \"hu\"), (\"Icelandic\", \"is\"), (\"Igbo\", \"ig\"), (\"Indonesian\", \"id\"), (\"Irish\", \"ga\"), (\"Italian\", \"it\"), (\"Japanese\", \"ja\"), (\"Javanese\", \"jv\"), (\"Kabuverdianu\", \"kea\"), (\"Kamba\", \"kam\"), (\"Kannada\", \"kn\"), (\"Kazakh\", \"kk\"), (\"Khmer\", \"km\"), (\"Korean\", \"ko\"), (\"Kyrgyz\", \"ky\"), (\"Lao\", \"lo\"), (\"Latvian\", \"lv\"), (\"Lingala\", \"ln\"), (\"Lithuanian\", \"lt\"), (\"Luo\", \"luo\"), (\"Luxembourgish\", \"lb\"), (\"Macedonian\", \"mk\"), (\"Malay\", \"ms\"), (\"Malayalam\", \"ml\"), (\"Maltese\", \"mt\"), (\"Maori\", \"mi\"), (\"Marathi\", \"mr\"), (\"Mongolian\", \"mn\"), (\"Nepali\", \"ne\"), (\"Northern-Sotho\", \"nso\"), (\"Norwegian\", \"nb\"), (\"Nyanja\", \"ny\"), (\"Occitan\", \"oc\"), (\"Oriya\", \"or\"), (\"Oromo\", \"om\"), (\"Pashto\", \"ps\"), (\"Persian\", \"fa\"), (\"Polish\", \"pl\"), (\"Portuguese\", \"pt\"), (\"Punjabi\", \"pa\"), (\"Romanian\", \"ro\"), (\"Russian\", \"ru\"), (\"Serbian\", \"sr\"), (\"Shona\", \"sn\"), (\"Sindhi\", \"sd\"), (\"Slovak\", \"sk\"), (\"Slovenian\", \"sl\"), (\"Somali\", \"so\"), (\"Sorani-Kurdish\", \"ckb\"), (\"Spanish\", \"es\"), (\"Swahili\", \"sw\"), (\"Swedish\", \"sv\"), (\"Tajik\", \"tg\"), (\"Tamil\", \"ta\"), (\"Telugu\", \"te\"), (\"Thai\", \"th\"), (\"Turkish\", \"tr\"), (\"Ukrainian\", \"uk\"), (\"Umbundu\", \"umb\"), (\"Urdu\", \"ur\"), (\"Uzbek\", \"uz\"), (\"Vietnamese\", \"vi\"), (\"Welsh\", \"cy\"), (\"Wolof\", \"wo\"), (\"Xhosa\", \"xh\"), (\"Yoruba\", \"yo\"), (\"Zulu\", \"zu\")])\n",
    "_FLEURS_LANG_SHORT_TO_LONG = {v: k for k, v in _FLEURS_LANG_TO_ID.items()}\n",
    "\n",
    "\n",
    "_FLEURS_LANG = sorted([\"af_za\", \"am_et\", \"ar_eg\", \"as_in\", \"ast_es\", \"az_az\", \"be_by\", \"bn_in\", \"bs_ba\", \"ca_es\", \"ceb_ph\", \"cmn_hans_cn\", \"yue_hant_hk\", \"cs_cz\", \"cy_gb\", \"da_dk\", \"de_de\", \"el_gr\", \"en_us\", \"es_419\", \"et_ee\", \"fa_ir\", \"ff_sn\", \"fi_fi\", \"fil_ph\", \"fr_fr\", \"ga_ie\", \"gl_es\", \"gu_in\", \"ha_ng\", \"he_il\", \"hi_in\", \"hr_hr\", \"hu_hu\", \"hy_am\", \"id_id\", \"ig_ng\", \"is_is\", \"it_it\", \"ja_jp\", \"jv_id\", \"ka_ge\", \"kam_ke\", \"kea_cv\", \"kk_kz\", \"km_kh\", \"kn_in\", \"ko_kr\", \"ckb_iq\", \"ky_kg\", \"lb_lu\", \"lg_ug\", \"ln_cd\", \"lo_la\", \"lt_lt\", \"luo_ke\", \"lv_lv\", \"mi_nz\", \"mk_mk\", \"ml_in\", \"mn_mn\", \"mr_in\", \"ms_my\", \"mt_mt\", \"my_mm\", \"nb_no\", \"ne_np\", \"nl_nl\", \"nso_za\", \"ny_mw\", \"oc_fr\", \"om_et\", \"or_in\", \"pa_in\", \"pl_pl\", \"ps_af\", \"pt_br\", \"ro_ro\", \"ru_ru\", \"bg_bg\", \"sd_in\", \"sk_sk\", \"sl_si\", \"sn_zw\", \"so_so\", \"sr_rs\", \"sv_se\", \"sw_ke\", \"ta_in\", \"te_in\", \"tg_tj\", \"th_th\", \"tr_tr\", \"uk_ua\", \"umb_ao\", \"ur_pk\", \"uz_uz\", \"vi_vn\", \"wo_sn\", \"xh_za\", \"yo_ng\", \"zu_za\"])\n",
    "_FLEURS_LONG_TO_LANG = {_FLEURS_LANG_SHORT_TO_LONG[\"_\".join(k.split(\"_\")[:-1]) or k]: k for k in _FLEURS_LANG}\n",
    "_FLEURS_LANG_TO_LONG = {v: k for k, v in _FLEURS_LONG_TO_LANG.items()}\n",
    "\n",
    "_FLEURS_GROUP_TO_LONG = OrderedDict({\n",
    "    \"western_european_we\": [\"Asturian\", \"Bosnian\", \"Catalan\", \"Croatian\", \"Danish\", \"Dutch\", \"English\", \"Finnish\", \"French\", \"Galician\", \"German\", \"Greek\", \"Hungarian\", \"Icelandic\", \"Irish\", \"Italian\", \"Kabuverdianu\", \"Luxembourgish\", \"Maltese\", \"Norwegian\", \"Occitan\", \"Portuguese\", \"Spanish\", \"Swedish\", \"Welsh\"],\n",
    "    \"eastern_european_ee\": [\"Armenian\", \"Belarusian\", \"Bulgarian\", \"Czech\", \"Estonian\", \"Georgian\", \"Latvian\", \"Lithuanian\", \"Macedonian\", \"Polish\", \"Romanian\", \"Russian\", \"Serbian\", \"Slovak\", \"Slovenian\", \"Ukrainian\"],\n",
    "    \"central_asia_middle_north_african_cmn\": [\"Arabic\", \"Azerbaijani\", \"Hebrew\", \"Kazakh\", \"Kyrgyz\", \"Mongolian\", \"Pashto\", \"Persian\", \"Sorani-Kurdish\", \"Tajik\", \"Turkish\", \"Uzbek\"],\n",
    "    \"sub_saharan_african_ssa\": [\"Afrikaans\", \"Amharic\", \"Fula\", \"Ganda\", \"Hausa\", \"Igbo\", \"Kamba\", \"Lingala\", \"Luo\", \"Northern-Sotho\", \"Nyanja\", \"Oromo\", \"Shona\", \"Somali\", \"Swahili\", \"Umbundu\", \"Wolof\", \"Xhosa\", \"Yoruba\", \"Zulu\"],\n",
    "    \"south_asian_sa\": [\"Assamese\", \"Bengali\", \"Gujarati\", \"Hindi\", \"Kannada\", \"Malayalam\", \"Marathi\", \"Nepali\", \"Oriya\", \"Punjabi\", \"Sindhi\", \"Tamil\", \"Telugu\", \"Urdu\"],\n",
    "    \"south_east_asian_sea\": [\"Burmese\", \"Cebuano\", \"Filipino\", \"Indonesian\", \"Javanese\", \"Khmer\", \"Lao\", \"Malay\", \"Maori\", \"Thai\", \"Vietnamese\"],\n",
    "    \"chinese_japanase_korean_cjk\": [\"Mandarin Chinese\", \"Cantonese Chinese\", \"Japanese\", \"Korean\"],\n",
    "})\n",
    "_FLEURS_LONG_TO_GROUP = {a: k for k, v in _FLEURS_GROUP_TO_LONG.items() for a in v}\n",
    "_FLEURS_LANG_TO_GROUP = {_FLEURS_LONG_TO_LANG[k]: v for k, v in _FLEURS_LONG_TO_GROUP.items()}"
   ],
   "id": "cda094474eaed059",
   "outputs": [],
   "execution_count": 3
  },
  {
   "metadata": {
    "ExecuteTime": {
     "end_time": "2025-03-21T08:53:43.607795Z",
     "start_time": "2025-03-21T08:53:43.592663Z"
    }
   },
   "cell_type": "code",
   "source": "_FLEURS_LONG_TO_LANG['Somali']",
   "id": "991cf158b397930c",
   "outputs": [
    {
     "data": {
      "text/plain": [
       "'so_so'"
      ]
     },
     "execution_count": 8,
     "metadata": {},
     "output_type": "execute_result"
    }
   ],
   "execution_count": 8
  },
  {
   "metadata": {
    "ExecuteTime": {
     "end_time": "2025-03-17T11:06:33.435211Z",
     "start_time": "2025-03-17T10:33:08.252465Z"
    }
   },
   "cell_type": "code",
   "source": [
    "messages = [\n",
    "    {\n",
    "        \"role\": \"user\",\n",
    "        \"content\": [\n",
    "            {\"type\": \"image\", \"path\": r\"C:\\Users\\pjtka\\Documents\\mela_data\\dump_14_10_2024\\dermoscopic-images\\0ce415bd-5336-4ca0-a439-9049d51eb2c9.jpg\"},\n",
    "            {\"type\": \"text\", \"text\": \"Describe this image of a squamous cell carcinoma\"}\n",
    "        ]\n",
    "    }\n",
    "]\n",
    "\n",
    "output = pipe(text=messages, max_new_tokens=200)\n",
    "print(output[0][0][\"generated_text\"][-1][\"content\"])"
   ],
   "id": "f657d660a3bc5290",
   "outputs": [
    {
     "ename": "KeyError",
     "evalue": "0",
     "output_type": "error",
     "traceback": [
      "\u001B[31m---------------------------------------------------------------------------\u001B[39m",
      "\u001B[31mKeyError\u001B[39m                                  Traceback (most recent call last)",
      "\u001B[36mCell\u001B[39m\u001B[36m \u001B[39m\u001B[32mIn[5]\u001B[39m\u001B[32m, line 12\u001B[39m\n\u001B[32m      1\u001B[39m messages = [\n\u001B[32m      2\u001B[39m     {\n\u001B[32m      3\u001B[39m         \u001B[33m\"\u001B[39m\u001B[33mrole\u001B[39m\u001B[33m\"\u001B[39m: \u001B[33m\"\u001B[39m\u001B[33muser\u001B[39m\u001B[33m\"\u001B[39m,\n\u001B[32m   (...)\u001B[39m\u001B[32m      8\u001B[39m     }\n\u001B[32m      9\u001B[39m ]\n\u001B[32m     11\u001B[39m output = pipe(text=messages, max_new_tokens=\u001B[32m200\u001B[39m)\n\u001B[32m---> \u001B[39m\u001B[32m12\u001B[39m \u001B[38;5;28mprint\u001B[39m(\u001B[43moutput\u001B[49m\u001B[43m[\u001B[49m\u001B[32;43m0\u001B[39;49m\u001B[43m]\u001B[49m\u001B[43m[\u001B[49m\u001B[32;43m0\u001B[39;49m\u001B[43m]\u001B[49m[\u001B[33m\"\u001B[39m\u001B[33mgenerated_text\u001B[39m\u001B[33m\"\u001B[39m][-\u001B[32m1\u001B[39m][\u001B[33m\"\u001B[39m\u001B[33mcontent\u001B[39m\u001B[33m\"\u001B[39m])\n",
      "\u001B[31mKeyError\u001B[39m: 0"
     ]
    }
   ],
   "execution_count": 5
  },
  {
   "metadata": {
    "ExecuteTime": {
     "end_time": "2025-03-17T11:33:47.249281Z",
     "start_time": "2025-03-17T11:33:47.197226Z"
    }
   },
   "cell_type": "code",
   "source": "output",
   "id": "12079b07510e580d",
   "outputs": [
    {
     "data": {
      "text/plain": [
       "[{'input_text': [{'role': 'user',\n",
       "    'content': [{'type': 'image',\n",
       "      'path': 'C:\\\\Users\\\\pjtka\\\\Documents\\\\mela_data\\\\dump_14_10_2024\\\\dermoscopic-images\\\\0ce415bd-5336-4ca0-a439-9049d51eb2c9.jpg'},\n",
       "     {'type': 'text',\n",
       "      'text': 'Describe this image of a squamous cell carcinoma'}]}],\n",
       "  'generated_text': [{'role': 'user',\n",
       "    'content': [{'type': 'image',\n",
       "      'path': 'C:\\\\Users\\\\pjtka\\\\Documents\\\\mela_data\\\\dump_14_10_2024\\\\dermoscopic-images\\\\0ce415bd-5336-4ca0-a439-9049d51eb2c9.jpg'},\n",
       "     {'type': 'text',\n",
       "      'text': 'Describe this image of a squamous cell carcinoma'}]},\n",
       "   {'role': 'assistant',\n",
       "    'content': 'Here\\'s a description of the image, focusing on the features suggestive of squamous cell carcinoma (SCC) as seen in dermatoscopy:\\n\\n**Overall Impression:**\\n\\nThe image shows a close-up view of a skin lesion, likely on a person\\'s skin. The lesion is circular and has a distinct, atypical appearance under dermatoscopic examination.\\n\\n**Key Features & Interpretation (suggestive of SCC):**\\n\\n*   **Color Variation:** The lesion exhibits a significant amount of color variation. There are areas of pink, purple, and darker red/brown. This heterogeneity is a common finding in SCC.\\n*   **Keratin Craters:**  The most striking feature are the numerous, well-defined, dark, circular structures within the lesion. These are referred to as \"keratin craters.\" They represent areas where keratin (a protein found in skin) has accumulated and formed plugs within the lesion. This is a strong indicator of SCC.\\n*   **Atypical Vascular'}]}]"
      ]
     },
     "execution_count": 6,
     "metadata": {},
     "output_type": "execute_result"
    }
   ],
   "execution_count": 6
  },
  {
   "metadata": {},
   "cell_type": "markdown",
   "source": "\\n\\n**Overall Impression:**\\n\\nThe image shows a close-up view of a skin lesion, likely on a person\\'s skin. The lesion is circular and has a distinct, atypical appearance under dermatoscopic examination.\\n\\n**Key Features & Interpretation (suggestive of SCC):**\\n\\n*   **Color Variation:** The lesion exhibits a significant amount of color variation. There are areas of pink, purple, and darker red/brown. This heterogeneity is a common finding in SCC.\\n*   **Keratin Craters:**  The most striking feature are the numerous, well-defined, dark, circular structures within the lesion. These are referred to as \"keratin craters.\" They represent areas where keratin (a protein found in skin) has accumulated and formed plugs within the lesion. This is a strong indicator of SCC.\\n*   **Atypical Vascular'",
   "id": "b1d9f5bd5c6a25a8"
  }
 ],
 "metadata": {
  "kernelspec": {
   "display_name": "Python 3",
   "language": "python",
   "name": "python3"
  },
  "language_info": {
   "codemirror_mode": {
    "name": "ipython",
    "version": 2
   },
   "file_extension": ".py",
   "mimetype": "text/x-python",
   "name": "python",
   "nbconvert_exporter": "python",
   "pygments_lexer": "ipython2",
   "version": "2.7.6"
  }
 },
 "nbformat": 4,
 "nbformat_minor": 5
}
